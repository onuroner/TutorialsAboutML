{
  "cells": [
    {
      "cell_type": "markdown",
      "metadata": {
        "id": "view-in-github",
        "colab_type": "text"
      },
      "source": [
        "<a href=\"https://colab.research.google.com/github/onuroner/TutorialsAboutML/blob/main/Image_Classification_Tutorial_with_Tensorflow.ipynb\" target=\"_parent\"><img src=\"https://colab.research.google.com/assets/colab-badge.svg\" alt=\"Open In Colab\"/></a>"
      ]
    },
    {
      "cell_type": "markdown",
      "metadata": {
        "id": "tIZa72eqPOV_"
      },
      "source": [
        "# Verisetinin Kaggle Üzerinden Yüklenmesi"
      ]
    },
    {
      "cell_type": "code",
      "execution_count": null,
      "metadata": {
        "id": "DoAZKZ8yOaBB"
      },
      "outputs": [],
      "source": [
        "! pip install kaggle"
      ]
    },
    {
      "cell_type": "code",
      "execution_count": null,
      "metadata": {
        "id": "G0uJle5pOhvu"
      },
      "outputs": [],
      "source": [
        "! mkdir ~/.kaggle"
      ]
    },
    {
      "cell_type": "code",
      "execution_count": null,
      "metadata": {
        "id": "N3illQQwOmFD"
      },
      "outputs": [],
      "source": [
        "! cp kaggle.json ~/.kaggle/"
      ]
    },
    {
      "cell_type": "code",
      "execution_count": null,
      "metadata": {
        "id": "angpMN0-Oniv"
      },
      "outputs": [],
      "source": [
        "! chmod 600 ~/.kaggle/kaggle.json"
      ]
    },
    {
      "cell_type": "code",
      "execution_count": null,
      "metadata": {
        "colab": {
          "base_uri": "https://localhost:8080/"
        },
        "id": "xUR9fyR6NddM",
        "outputId": "5062a827-86f9-47ee-9db6-c49d3a685143"
      },
      "outputs": [
        {
          "output_type": "stream",
          "name": "stdout",
          "text": [
            "Downloading flowers-recognition.zip to /content\n",
            "100% 225M/225M [00:10<00:00, 21.6MB/s]\n",
            "100% 225M/225M [00:10<00:00, 22.0MB/s]\n"
          ]
        }
      ],
      "source": [
        "! kaggle datasets download -d alxmamaev/flowers-recognition"
      ]
    },
    {
      "cell_type": "code",
      "execution_count": null,
      "metadata": {
        "id": "HX-Qf6K6O535"
      },
      "outputs": [],
      "source": [
        "! unzip flowers-recognition.zip"
      ]
    },
    {
      "cell_type": "markdown",
      "metadata": {
        "id": "Rhr8rt72PU0i"
      },
      "source": [
        "# Kütüphanelerin Import Edilmesi"
      ]
    },
    {
      "cell_type": "code",
      "execution_count": null,
      "metadata": {
        "id": "DoAmpKeVNF9z"
      },
      "outputs": [],
      "source": [
        "import matplotlib.pyplot as plt\n",
        "import numpy as np\n",
        "import PIL\n",
        "import tensorflow as tf\n",
        "import os\n",
        "\n",
        "from tensorflow import keras\n",
        "from tensorflow.keras.models import Sequential"
      ]
    },
    {
      "cell_type": "code",
      "execution_count": null,
      "metadata": {
        "id": "_WoGL2qaPyz-"
      },
      "outputs": [],
      "source": [
        "dataset_dir = \"/content/flowers\""
      ]
    },
    {
      "cell_type": "markdown",
      "source": [
        "# Veriyi İnceleme"
      ],
      "metadata": {
        "id": "VU60Oyc0tHAR"
      }
    },
    {
      "cell_type": "code",
      "execution_count": null,
      "metadata": {
        "colab": {
          "base_uri": "https://localhost:8080/"
        },
        "id": "q1xn_i0fP7rS",
        "outputId": "84dbe02e-61f5-4635-d04e-e0955605b40c"
      },
      "outputs": [
        {
          "output_type": "stream",
          "name": "stdout",
          "text": [
            "tulip\n",
            "daisy\n",
            "sunflower\n",
            "dandelion\n",
            "rose\n"
          ]
        }
      ],
      "source": [
        "for i in os.listdir(dataset_dir):\n",
        "  print(i)"
      ]
    },
    {
      "cell_type": "code",
      "execution_count": null,
      "metadata": {
        "id": "srvYXUJHYWQh"
      },
      "outputs": [],
      "source": [
        "sunflower_dir = dataset_dir+\"/sunflower\"\n",
        "tulip_dir = dataset_dir+\"/tulip\"\n",
        "daisy_dir = dataset_dir+\"/daisy\"\n",
        "dandelion_dir = dataset_dir+\"/dandelion\"\n",
        "rose_dir = dataset_dir+\"/rose\""
      ]
    },
    {
      "cell_type": "code",
      "execution_count": null,
      "metadata": {
        "colab": {
          "base_uri": "https://localhost:8080/"
        },
        "id": "Wl0tVZM9ZMvR",
        "outputId": "c602510b-123e-4431-85fe-45a6fe4f39d7"
      },
      "outputs": [
        {
          "output_type": "stream",
          "name": "stdout",
          "text": [
            "Number of the tulip images: 984\n",
            "Number of the daisy images: 764\n",
            "Number of the sunflower images: 733\n",
            "Number of the dandelion images: 1052\n",
            "Number of the rose images: 784\n",
            "\n",
            " Total images: 4317\n"
          ]
        }
      ],
      "source": [
        "total_img = 0\n",
        "\n",
        "for i in os.listdir(dataset_dir):\n",
        "  size = len(os.listdir(dataset_dir+\"/\"+i))\n",
        "  total_img += size\n",
        "  print(f\"Number of the {i} images: {size}\")\n",
        "\n",
        "print(f\"\\n Total images: {total_img}\")"
      ]
    },
    {
      "cell_type": "markdown",
      "metadata": {
        "id": "_hg6p-mbdP5W"
      },
      "source": [
        "# Yeni Dizin Oluşturulması"
      ]
    },
    {
      "cell_type": "markdown",
      "metadata": {
        "id": "Ui23ZeXvgByB"
      },
      "source": [
        "## Train-Test Dizinleri"
      ]
    },
    {
      "cell_type": "code",
      "execution_count": null,
      "metadata": {
        "id": "W82N0HKIawxP"
      },
      "outputs": [],
      "source": [
        "train_dir = \"/content/data/train\"\n",
        "val_dir = \"/content/data/val\"\n",
        "\n",
        "os.makedirs(train_dir)\n",
        "os.makedirs(val_dir)"
      ]
    },
    {
      "cell_type": "markdown",
      "metadata": {
        "id": "iIjXzyJugFUF"
      },
      "source": [
        "## Train Setindeki Sınıflar"
      ]
    },
    {
      "cell_type": "code",
      "execution_count": null,
      "metadata": {
        "id": "UbAkty0MeGYZ"
      },
      "outputs": [],
      "source": [
        "train_sunflower = train_dir+\"/sunflower\"\n",
        "train_tulip = train_dir+\"/tulip\"\n",
        "train_daisy = train_dir+\"/daisy\"\n",
        "train_dandelion = train_dir+\"/dandelion\"\n",
        "train_rose = train_dir+\"/rose\""
      ]
    },
    {
      "cell_type": "code",
      "execution_count": null,
      "metadata": {
        "id": "DwRtfzVofmFL"
      },
      "outputs": [],
      "source": [
        "os.makedirs(train_sunflower)\n",
        "os.makedirs(train_tulip)\n",
        "os.makedirs(train_daisy)\n",
        "os.makedirs(train_dandelion)\n",
        "os.makedirs(train_rose)"
      ]
    },
    {
      "cell_type": "markdown",
      "metadata": {
        "id": "y6q9F5y9gJIT"
      },
      "source": [
        "## Validation Setindeki Sınıflar"
      ]
    },
    {
      "cell_type": "code",
      "execution_count": null,
      "metadata": {
        "id": "CSkpQdh5gP65"
      },
      "outputs": [],
      "source": [
        "val_sunflower = val_dir+\"/sunflower\"\n",
        "val_tulip = val_dir+\"/tulip\"\n",
        "val_daisy = val_dir+\"/daisy\"\n",
        "val_dandelion = val_dir+\"/dandelion\"\n",
        "val_rose = val_dir+\"/rose\""
      ]
    },
    {
      "cell_type": "code",
      "execution_count": null,
      "metadata": {
        "id": "rNFhvjmIgp5i"
      },
      "outputs": [],
      "source": [
        "os.makedirs(val_sunflower)\n",
        "os.makedirs(val_tulip)\n",
        "os.makedirs(val_daisy)\n",
        "os.makedirs(val_dandelion)\n",
        "os.makedirs(val_rose)"
      ]
    },
    {
      "cell_type": "markdown",
      "metadata": {
        "id": "wS2yc5ykiv4v"
      },
      "source": [
        "# Dosyaların Kopyalanması"
      ]
    },
    {
      "cell_type": "code",
      "execution_count": null,
      "metadata": {
        "id": "gviFYvPli2mt"
      },
      "outputs": [],
      "source": [
        "import shutil"
      ]
    },
    {
      "cell_type": "markdown",
      "metadata": {
        "id": "6SPpmOUZpVuL"
      },
      "source": [
        "Train-val dağılımları nasıl olacak öğrenelim."
      ]
    },
    {
      "cell_type": "code",
      "execution_count": null,
      "metadata": {
        "colab": {
          "base_uri": "https://localhost:8080/"
        },
        "id": "866ggvs9TECy",
        "outputId": "a629262e-c3e6-46fe-b724-6bb8b1c2b21d"
      },
      "outputs": [
        {
          "output_type": "stream",
          "name": "stdout",
          "text": [
            "Number of the tulip images: 984, train: 688, val: 296\n",
            "Number of the daisy images: 764, train: 534, val: 230\n",
            "Number of the sunflower images: 733, train: 513, val: 220\n",
            "Number of the dandelion images: 1052, train: 736, val: 316\n",
            "Number of the rose images: 784, train: 548, val: 236\n"
          ]
        }
      ],
      "source": [
        "for i in os.listdir(dataset_dir):\n",
        "  size = len(os.listdir(dataset_dir+\"/\"+i))\n",
        "  total_img += size\n",
        "  train_size = int(size*0.7)\n",
        "  val_size = size-train_size\n",
        "  print(f\"Number of the {i} images: {size}, train: {train_size}, val: {val_size}\")"
      ]
    },
    {
      "cell_type": "markdown",
      "metadata": {
        "id": "Jmtuhey3iFvP"
      },
      "source": [
        "Her sınıfın train setinde kaç tane resim olacağını tanımlıyoruz."
      ]
    },
    {
      "cell_type": "code",
      "execution_count": null,
      "metadata": {
        "id": "VYPNEfBIh6__"
      },
      "outputs": [],
      "source": [
        "sunflower_train = 513\n",
        "tulip_train = 688\n",
        "daisy_train = 534\n",
        "dandelion_train = 736\n",
        "rose_train = 548"
      ]
    },
    {
      "cell_type": "markdown",
      "metadata": {
        "id": "JUy4KCnfk4jc"
      },
      "source": [
        "Kaynak dizinleri bir liste yapısında tutalım."
      ]
    },
    {
      "cell_type": "code",
      "execution_count": null,
      "metadata": {
        "id": "JETB9pUAiimF"
      },
      "outputs": [],
      "source": [
        "src_list=[]\n",
        "\n",
        "for i in os.listdir(dataset_dir):\n",
        "  src_list.append(dataset_dir + \"/\" + i)"
      ]
    },
    {
      "cell_type": "code",
      "execution_count": null,
      "metadata": {
        "colab": {
          "base_uri": "https://localhost:8080/"
        },
        "id": "oBcome7-kpgC",
        "outputId": "b45435f0-1654-4728-89eb-66bebd117468"
      },
      "outputs": [
        {
          "output_type": "execute_result",
          "data": {
            "text/plain": [
              "['/content/flowers/tulip',\n",
              " '/content/flowers/daisy',\n",
              " '/content/flowers/sunflower',\n",
              " '/content/flowers/dandelion',\n",
              " '/content/flowers/rose']"
            ]
          },
          "metadata": {},
          "execution_count": 23
        }
      ],
      "source": [
        "src_list"
      ]
    },
    {
      "cell_type": "markdown",
      "metadata": {
        "id": "3ilMcc82o6GD"
      },
      "source": [
        "Resimleri sınıf sınıf taşıyalım."
      ]
    },
    {
      "cell_type": "code",
      "execution_count": null,
      "metadata": {
        "id": "A7ngI_HOk9xd"
      },
      "outputs": [],
      "source": [
        "source_dir = os.listdir(src_list[0])\n",
        "\n",
        "for i in range(len(source_dir)):\n",
        "  source = src_list[0] + \"/\" + source_dir[i]\n",
        "  print(source)\n",
        "\n",
        "  if(i<tulip_train):\n",
        "    destination = \"/content/data/train/tulip/\"\n",
        "  else:\n",
        "    destination = \"/content/data/val/tulip/\"\n",
        "    \n",
        "  shutil.move(source, destination)"
      ]
    },
    {
      "cell_type": "code",
      "execution_count": null,
      "metadata": {
        "id": "9a0w2EaWn2kt"
      },
      "outputs": [],
      "source": [
        "source_dir = os.listdir(src_list[1])\n",
        "\n",
        "for i in range(len(source_dir)):\n",
        "  source = src_list[1] + \"/\" + source_dir[i]\n",
        "  print(source)\n",
        "\n",
        "  if(i<daisy_train):\n",
        "    destination = \"/content/data/train/daisy/\"\n",
        "  else:\n",
        "    destination = \"/content/data/val/daisy/\"\n",
        "    \n",
        "  shutil.move(source, destination)"
      ]
    },
    {
      "cell_type": "code",
      "execution_count": null,
      "metadata": {
        "id": "sqQvqtJjoOwt"
      },
      "outputs": [],
      "source": [
        "source_dir = os.listdir(src_list[2])\n",
        "\n",
        "for i in range(len(source_dir)):\n",
        "  source = src_list[2] + \"/\" + source_dir[i]\n",
        "  print(source)\n",
        "\n",
        "  if(i<sunflower_train):\n",
        "    destination = \"/content/data/train/sunflower/\"\n",
        "  else:\n",
        "    destination = \"/content/data/val/sunflower/\"\n",
        "    \n",
        "  shutil.move(source, destination)"
      ]
    },
    {
      "cell_type": "code",
      "execution_count": null,
      "metadata": {
        "id": "QqOgLohQoinC"
      },
      "outputs": [],
      "source": [
        "source_dir = os.listdir(src_list[3])\n",
        "\n",
        "for i in range(len(source_dir)):\n",
        "  source = src_list[3] + \"/\" + source_dir[i]\n",
        "  print(source)\n",
        "\n",
        "  if(i<dandelion_train):\n",
        "    destination = \"/content/data/train/dandelion/\"\n",
        "  else:\n",
        "    destination = \"/content/data/val/dandelion/\"\n",
        "    \n",
        "  shutil.move(source, destination)"
      ]
    },
    {
      "cell_type": "code",
      "execution_count": null,
      "metadata": {
        "id": "yllIbhN-ouq4"
      },
      "outputs": [],
      "source": [
        "source_dir = os.listdir(src_list[4])\n",
        "\n",
        "for i in range(len(source_dir)):\n",
        "  source = src_list[4] + \"/\" + source_dir[i]\n",
        "  print(source)\n",
        "\n",
        "  if(i<rose_train):\n",
        "    destination = \"/content/data/train/rose/\"\n",
        "  else:\n",
        "    destination = \"/content/data/val/rose/\"\n",
        "    \n",
        "  shutil.move(source, destination)"
      ]
    },
    {
      "cell_type": "markdown",
      "metadata": {
        "id": "_3u5RDOF6dbC"
      },
      "source": [
        "Sayıları kontrol edelim."
      ]
    },
    {
      "cell_type": "code",
      "execution_count": null,
      "metadata": {
        "colab": {
          "base_uri": "https://localhost:8080/"
        },
        "id": "lr5k_Acc6fb4",
        "outputId": "378695cb-f799-400f-eba3-a573639f6b66"
      },
      "outputs": [
        {
          "output_type": "stream",
          "name": "stdout",
          "text": [
            "736\n",
            "316\n"
          ]
        }
      ],
      "source": [
        "print(len(os.listdir('/content/data/train/dandelion')))\n",
        "print(len(os.listdir('/content/data/val/dandelion')))"
      ]
    },
    {
      "cell_type": "code",
      "execution_count": null,
      "metadata": {
        "colab": {
          "base_uri": "https://localhost:8080/"
        },
        "id": "mN1bYH2L682T",
        "outputId": "5789bad4-1ba2-47aa-c8c2-a987bbb7dc9c"
      },
      "outputs": [
        {
          "output_type": "stream",
          "name": "stdout",
          "text": [
            "534\n",
            "230\n"
          ]
        }
      ],
      "source": [
        "print(len(os.listdir('/content/data/train/daisy')))\n",
        "print(len(os.listdir('/content/data/val/daisy')))"
      ]
    },
    {
      "cell_type": "code",
      "execution_count": null,
      "metadata": {
        "colab": {
          "base_uri": "https://localhost:8080/"
        },
        "id": "wc1ruDjt7CVN",
        "outputId": "71667110-851b-476d-a210-90e7b961e5b1"
      },
      "outputs": [
        {
          "output_type": "stream",
          "name": "stdout",
          "text": [
            "548\n",
            "236\n"
          ]
        }
      ],
      "source": [
        "print(len(os.listdir('/content/data/train/rose')))\n",
        "print(len(os.listdir('/content/data/val/rose')))"
      ]
    },
    {
      "cell_type": "code",
      "execution_count": null,
      "metadata": {
        "colab": {
          "base_uri": "https://localhost:8080/"
        },
        "id": "h_l47uRQ7HFQ",
        "outputId": "754718cf-752b-47ad-acdd-850feb9c970a"
      },
      "outputs": [
        {
          "output_type": "stream",
          "name": "stdout",
          "text": [
            "513\n",
            "220\n"
          ]
        }
      ],
      "source": [
        "print(len(os.listdir('/content/data/train/sunflower')))\n",
        "print(len(os.listdir('/content/data/val/sunflower')))"
      ]
    },
    {
      "cell_type": "code",
      "execution_count": null,
      "metadata": {
        "colab": {
          "base_uri": "https://localhost:8080/"
        },
        "id": "XVvCnoix7MMX",
        "outputId": "e370a6c0-af68-4403-8831-e06cb4aafe24"
      },
      "outputs": [
        {
          "output_type": "stream",
          "name": "stdout",
          "text": [
            "688\n",
            "296\n"
          ]
        }
      ],
      "source": [
        "print(len(os.listdir('/content/data/train/tulip')))\n",
        "print(len(os.listdir('/content/data/val/tulip')))"
      ]
    },
    {
      "cell_type": "markdown",
      "metadata": {
        "id": "5LSD_12u8KUs"
      },
      "source": [
        "# Data Augmentation"
      ]
    },
    {
      "cell_type": "code",
      "execution_count": null,
      "metadata": {
        "id": "zHcxmYBG8MJu"
      },
      "outputs": [],
      "source": [
        "from tensorflow.keras.preprocessing.image import ImageDataGenerator"
      ]
    },
    {
      "cell_type": "code",
      "execution_count": null,
      "metadata": {
        "id": "mBTHaJhz8P4y"
      },
      "outputs": [],
      "source": [
        "train_datagen = ImageDataGenerator(\n",
        "      rescale=1./255,\n",
        "      rotation_range=40,\n",
        "      width_shift_range=0.2,\n",
        "      height_shift_range=0.2,\n",
        "      shear_range=0.2,\n",
        "      zoom_range=0.2,\n",
        "      horizontal_flip=True,\n",
        "      fill_mode='nearest')"
      ]
    },
    {
      "cell_type": "code",
      "execution_count": null,
      "metadata": {
        "id": "UMkPzjyD8U28"
      },
      "outputs": [],
      "source": [
        "validation_datagen = ImageDataGenerator(rescale=1/255)"
      ]
    },
    {
      "cell_type": "code",
      "execution_count": null,
      "metadata": {
        "colab": {
          "base_uri": "https://localhost:8080/"
        },
        "id": "8L96Yeeu8WFk",
        "outputId": "2909e088-8c67-4cef-f466-24f5114013dc"
      },
      "outputs": [
        {
          "output_type": "stream",
          "name": "stdout",
          "text": [
            "Found 3019 images belonging to 5 classes.\n"
          ]
        }
      ],
      "source": [
        "train_generator = train_datagen.flow_from_directory(\n",
        "        '/content/data/train',  # This is the source directory for training images\n",
        "        target_size=(224, 224),  # All images will be resized to 200x200\n",
        "        batch_size=64,\n",
        "        # Since we use binary_crossentropy loss, we need binary labels\n",
        "        class_mode='categorical')"
      ]
    },
    {
      "cell_type": "code",
      "execution_count": null,
      "metadata": {
        "colab": {
          "base_uri": "https://localhost:8080/"
        },
        "id": "SRuCyn_c-6aM",
        "outputId": "9d996237-a4a3-4353-ed70-4563ed4e7a14"
      },
      "outputs": [
        {
          "output_type": "stream",
          "name": "stdout",
          "text": [
            "Found 1298 images belonging to 5 classes.\n"
          ]
        }
      ],
      "source": [
        "validation_generator = validation_datagen.flow_from_directory(\n",
        "        '/content/data/val',  # This is the source directory for training images\n",
        "        target_size=(224, 224),  # All images will be resized to 200x200\n",
        "        batch_size=32,\n",
        "        # Since we use binary_crossentropy loss, we need binary labels\n",
        "        class_mode='categorical')"
      ]
    },
    {
      "cell_type": "markdown",
      "source": [
        "# Modelin Oluşturulması"
      ],
      "metadata": {
        "id": "SzHxJJIJtWz4"
      }
    },
    {
      "cell_type": "code",
      "execution_count": null,
      "metadata": {
        "id": "OMkKyDqOZCp4"
      },
      "outputs": [],
      "source": [
        "from keras.layers import Dense, Conv2D , MaxPool2D , Flatten , Dropout , MaxPooling2D\n",
        "from keras.applications import VGG19"
      ]
    },
    {
      "cell_type": "code",
      "execution_count": null,
      "metadata": {
        "colab": {
          "base_uri": "https://localhost:8080/"
        },
        "id": "9flahT_ILCtP",
        "outputId": "8f09ff27-6116-4bee-f27d-8041f238939a"
      },
      "outputs": [
        {
          "output_type": "stream",
          "name": "stdout",
          "text": [
            "Downloading data from https://storage.googleapis.com/tensorflow/keras-applications/vgg19/vgg19_weights_tf_dim_ordering_tf_kernels_notop.h5\n",
            "80134624/80134624 [==============================] - 5s 0us/step\n"
          ]
        }
      ],
      "source": [
        "pre_trained_model = VGG19(input_shape=(224,224,3), include_top=False, weights=\"imagenet\")"
      ]
    },
    {
      "cell_type": "code",
      "execution_count": null,
      "metadata": {
        "colab": {
          "base_uri": "https://localhost:8080/"
        },
        "id": "VMRoxKlHKxmh",
        "outputId": "d10316e9-ddfa-4f5e-e151-2adacb10a806"
      },
      "outputs": [
        {
          "output_type": "stream",
          "name": "stdout",
          "text": [
            "Model: \"vgg19\"\n",
            "_________________________________________________________________\n",
            " Layer (type)                Output Shape              Param #   \n",
            "=================================================================\n",
            " input_1 (InputLayer)        [(None, 224, 224, 3)]     0         \n",
            "                                                                 \n",
            " block1_conv1 (Conv2D)       (None, 224, 224, 64)      1792      \n",
            "                                                                 \n",
            " block1_conv2 (Conv2D)       (None, 224, 224, 64)      36928     \n",
            "                                                                 \n",
            " block1_pool (MaxPooling2D)  (None, 112, 112, 64)      0         \n",
            "                                                                 \n",
            " block2_conv1 (Conv2D)       (None, 112, 112, 128)     73856     \n",
            "                                                                 \n",
            " block2_conv2 (Conv2D)       (None, 112, 112, 128)     147584    \n",
            "                                                                 \n",
            " block2_pool (MaxPooling2D)  (None, 56, 56, 128)       0         \n",
            "                                                                 \n",
            " block3_conv1 (Conv2D)       (None, 56, 56, 256)       295168    \n",
            "                                                                 \n",
            " block3_conv2 (Conv2D)       (None, 56, 56, 256)       590080    \n",
            "                                                                 \n",
            " block3_conv3 (Conv2D)       (None, 56, 56, 256)       590080    \n",
            "                                                                 \n",
            " block3_conv4 (Conv2D)       (None, 56, 56, 256)       590080    \n",
            "                                                                 \n",
            " block3_pool (MaxPooling2D)  (None, 28, 28, 256)       0         \n",
            "                                                                 \n",
            " block4_conv1 (Conv2D)       (None, 28, 28, 512)       1180160   \n",
            "                                                                 \n",
            " block4_conv2 (Conv2D)       (None, 28, 28, 512)       2359808   \n",
            "                                                                 \n",
            " block4_conv3 (Conv2D)       (None, 28, 28, 512)       2359808   \n",
            "                                                                 \n",
            " block4_conv4 (Conv2D)       (None, 28, 28, 512)       2359808   \n",
            "                                                                 \n",
            " block4_pool (MaxPooling2D)  (None, 14, 14, 512)       0         \n",
            "                                                                 \n",
            " block5_conv1 (Conv2D)       (None, 14, 14, 512)       2359808   \n",
            "                                                                 \n",
            " block5_conv2 (Conv2D)       (None, 14, 14, 512)       2359808   \n",
            "                                                                 \n",
            " block5_conv3 (Conv2D)       (None, 14, 14, 512)       2359808   \n",
            "                                                                 \n",
            " block5_conv4 (Conv2D)       (None, 14, 14, 512)       2359808   \n",
            "                                                                 \n",
            " block5_pool (MaxPooling2D)  (None, 7, 7, 512)         0         \n",
            "                                                                 \n",
            "=================================================================\n",
            "Total params: 20,024,384\n",
            "Trainable params: 20,024,384\n",
            "Non-trainable params: 0\n",
            "_________________________________________________________________\n"
          ]
        }
      ],
      "source": [
        "pre_trained_model.summary()"
      ]
    },
    {
      "cell_type": "code",
      "execution_count": null,
      "metadata": {
        "colab": {
          "base_uri": "https://localhost:8080/"
        },
        "id": "wiPz3NC7L6ZA",
        "outputId": "18384d79-5857-4401-89b6-f882904c1cc2"
      },
      "outputs": [
        {
          "output_type": "execute_result",
          "data": {
            "text/plain": [
              "[<keras.engine.input_layer.InputLayer at 0x7f34c1cc47d0>,\n",
              " <keras.layers.convolutional.conv2d.Conv2D at 0x7f34b70595d0>,\n",
              " <keras.layers.convolutional.conv2d.Conv2D at 0x7f34b7b57610>,\n",
              " <keras.layers.pooling.max_pooling2d.MaxPooling2D at 0x7f34b7b4d7d0>,\n",
              " <keras.layers.convolutional.conv2d.Conv2D at 0x7f34b70770d0>,\n",
              " <keras.layers.convolutional.conv2d.Conv2D at 0x7f34b7077cd0>,\n",
              " <keras.layers.pooling.max_pooling2d.MaxPooling2D at 0x7f34b5ab4e50>,\n",
              " <keras.layers.convolutional.conv2d.Conv2D at 0x7f34b5abb950>,\n",
              " <keras.layers.convolutional.conv2d.Conv2D at 0x7f34b5abbad0>,\n",
              " <keras.layers.convolutional.conv2d.Conv2D at 0x7f34b5a4d990>,\n",
              " <keras.layers.convolutional.conv2d.Conv2D at 0x7f34b5a4dd50>,\n",
              " <keras.layers.pooling.max_pooling2d.MaxPooling2D at 0x7f34b5ac2650>,\n",
              " <keras.layers.convolutional.conv2d.Conv2D at 0x7f34b5a59b10>,\n",
              " <keras.layers.convolutional.conv2d.Conv2D at 0x7f34b5a5f490>,\n",
              " <keras.layers.convolutional.conv2d.Conv2D at 0x7f34b5a5f210>,\n",
              " <keras.layers.convolutional.conv2d.Conv2D at 0x7f34b5a51850>,\n",
              " <keras.layers.pooling.max_pooling2d.MaxPooling2D at 0x7f34b5a74710>,\n",
              " <keras.layers.convolutional.conv2d.Conv2D at 0x7f34b5a6ebd0>,\n",
              " <keras.layers.convolutional.conv2d.Conv2D at 0x7f34b5a6a090>,\n",
              " <keras.layers.convolutional.conv2d.Conv2D at 0x7f34b5a6a3d0>,\n",
              " <keras.layers.convolutional.conv2d.Conv2D at 0x7f34b5a82590>,\n",
              " <keras.layers.pooling.max_pooling2d.MaxPooling2D at 0x7f34b5a82650>]"
            ]
          },
          "metadata": {},
          "execution_count": 42
        }
      ],
      "source": [
        "pre_trained_model.layers"
      ]
    },
    {
      "cell_type": "code",
      "execution_count": null,
      "metadata": {
        "id": "laIZKQMNYy61"
      },
      "outputs": [],
      "source": [
        "for layer in pre_trained_model.layers[:19]:\n",
        "    layer.trainable = False\n",
        "model = Sequential([\n",
        "        pre_trained_model,\n",
        "        MaxPool2D((2,2) , strides = 2),\n",
        "        Flatten(),\n",
        "        Dense(5 , activation='softmax')])"
      ]
    },
    {
      "cell_type": "code",
      "execution_count": null,
      "metadata": {
        "id": "fiWzz5r5A6l2"
      },
      "outputs": [],
      "source": [
        "from tensorflow.keras.optimizers import Adam"
      ]
    },
    {
      "cell_type": "code",
      "execution_count": null,
      "metadata": {
        "id": "ULxyYhuUAlry"
      },
      "outputs": [],
      "source": [
        "model.compile(loss='categorical_crossentropy',\n",
        "              optimizer=Adam(learning_rate=0.0001),\n",
        "              metrics=['accuracy'])"
      ]
    },
    {
      "cell_type": "code",
      "execution_count": null,
      "metadata": {
        "colab": {
          "base_uri": "https://localhost:8080/"
        },
        "id": "qWycQuzyBH3Z",
        "outputId": "c44fb009-7fae-41bc-c040-8ea37659adfd"
      },
      "outputs": [
        {
          "output_type": "stream",
          "name": "stdout",
          "text": [
            "Model: \"sequential\"\n",
            "_________________________________________________________________\n",
            " Layer (type)                Output Shape              Param #   \n",
            "=================================================================\n",
            " vgg19 (Functional)          (None, 7, 7, 512)         20024384  \n",
            "                                                                 \n",
            " max_pooling2d (MaxPooling2D  (None, 3, 3, 512)        0         \n",
            " )                                                               \n",
            "                                                                 \n",
            " flatten (Flatten)           (None, 4608)              0         \n",
            "                                                                 \n",
            " dense (Dense)               (None, 5)                 23045     \n",
            "                                                                 \n",
            "=================================================================\n",
            "Total params: 20,047,429\n",
            "Trainable params: 4,742,661\n",
            "Non-trainable params: 15,304,768\n",
            "_________________________________________________________________\n"
          ]
        }
      ],
      "source": [
        "model.summary()"
      ]
    },
    {
      "cell_type": "code",
      "execution_count": null,
      "metadata": {
        "colab": {
          "base_uri": "https://localhost:8080/"
        },
        "id": "N_3m4GgvBSCW",
        "outputId": "11980a1a-8ec6-4f0b-d8d7-ad5514d7e763"
      },
      "outputs": [
        {
          "output_type": "stream",
          "name": "stdout",
          "text": [
            "Epoch 1/15\n",
            "48/48 [==============================] - 64s 1s/step - loss: 0.9918 - accuracy: 0.6194 - val_loss: 0.6299 - val_accuracy: 0.7658\n",
            "Epoch 2/15\n",
            "48/48 [==============================] - 48s 988ms/step - loss: 0.6074 - accuracy: 0.7655 - val_loss: 0.4989 - val_accuracy: 0.8120\n",
            "Epoch 3/15\n",
            "48/48 [==============================] - 47s 981ms/step - loss: 0.5269 - accuracy: 0.8095 - val_loss: 0.4856 - val_accuracy: 0.8228\n",
            "Epoch 4/15\n",
            "48/48 [==============================] - 47s 983ms/step - loss: 0.4369 - accuracy: 0.8437 - val_loss: 0.4344 - val_accuracy: 0.8398\n",
            "Epoch 5/15\n",
            "48/48 [==============================] - 55s 1s/step - loss: 0.4122 - accuracy: 0.8463 - val_loss: 0.3865 - val_accuracy: 0.8582\n",
            "Epoch 6/15\n",
            "48/48 [==============================] - 47s 986ms/step - loss: 0.3877 - accuracy: 0.8642 - val_loss: 0.3931 - val_accuracy: 0.8505\n",
            "Epoch 7/15\n",
            "48/48 [==============================] - 49s 1s/step - loss: 0.3460 - accuracy: 0.8711 - val_loss: 0.4061 - val_accuracy: 0.8575\n",
            "Epoch 8/15\n",
            "48/48 [==============================] - 47s 979ms/step - loss: 0.3295 - accuracy: 0.8837 - val_loss: 0.3469 - val_accuracy: 0.8652\n",
            "Epoch 9/15\n",
            "48/48 [==============================] - 47s 980ms/step - loss: 0.3019 - accuracy: 0.8870 - val_loss: 0.4064 - val_accuracy: 0.8559\n",
            "Epoch 10/15\n",
            "48/48 [==============================] - 47s 977ms/step - loss: 0.2865 - accuracy: 0.8970 - val_loss: 0.3471 - val_accuracy: 0.8814\n",
            "Epoch 11/15\n",
            "48/48 [==============================] - 47s 981ms/step - loss: 0.2510 - accuracy: 0.9112 - val_loss: 0.3718 - val_accuracy: 0.8729\n",
            "Epoch 12/15\n",
            "48/48 [==============================] - 48s 990ms/step - loss: 0.2322 - accuracy: 0.9169 - val_loss: 0.3851 - val_accuracy: 0.8698\n",
            "Epoch 13/15\n",
            "48/48 [==============================] - 47s 979ms/step - loss: 0.2174 - accuracy: 0.9238 - val_loss: 0.3525 - val_accuracy: 0.8867\n",
            "Epoch 14/15\n",
            "48/48 [==============================] - 47s 977ms/step - loss: 0.1898 - accuracy: 0.9328 - val_loss: 0.3888 - val_accuracy: 0.8767\n",
            "Epoch 15/15\n",
            "48/48 [==============================] - 47s 984ms/step - loss: 0.1815 - accuracy: 0.9381 - val_loss: 0.3892 - val_accuracy: 0.8821\n"
          ]
        }
      ],
      "source": [
        "history = model.fit(x=train_generator, \n",
        "                    epochs=15,  \n",
        "                    validation_data = validation_generator)"
      ]
    },
    {
      "cell_type": "markdown",
      "source": [
        "# Model Metriklerinin Gözlemlenmesi"
      ],
      "metadata": {
        "id": "i1SxZiemteJF"
      }
    },
    {
      "cell_type": "code",
      "execution_count": null,
      "metadata": {
        "id": "v1WsZEBjpy59",
        "colab": {
          "base_uri": "https://localhost:8080/",
          "height": 513
        },
        "outputId": "69e9ead0-be8e-42e0-b8ba-83fc5e2d9a45"
      },
      "outputs": [
        {
          "output_type": "display_data",
          "data": {
            "text/plain": [
              "<Figure size 1152x576 with 2 Axes>"
            ],
            "image/png": "[encoded data removed]"
          },
          "metadata": {
            "needs_background": "light"
          }
        }
      ],
      "source": [
        "epochs = [i for i in range(15)]\n",
        "fig , ax = plt.subplots(1,2)\n",
        "train_acc = history.history['accuracy']\n",
        "train_loss = history.history['loss']\n",
        "val_acc = history.history['val_accuracy']\n",
        "val_loss = history.history['val_loss']\n",
        "fig.set_size_inches(16,8)\n",
        "\n",
        "ax[0].plot(epochs , train_acc , 'go-' , label = 'Training Accuracy')\n",
        "ax[0].plot(epochs , val_acc , 'ro-' , label = 'Testing Accuracy')\n",
        "ax[0].set_title('Training & Testing Accuracy')\n",
        "ax[0].legend()\n",
        "ax[0].set_xlabel(\"Epochs\")\n",
        "ax[0].set_ylabel(\"Accuracy\")\n",
        "\n",
        "ax[1].plot(epochs , train_loss , 'g-o' , label = 'Training Loss')\n",
        "ax[1].plot(epochs , val_loss , 'r-o' , label = 'Testing Loss')\n",
        "ax[1].set_title('Training & Testing Loss')\n",
        "ax[1].legend()\n",
        "ax[1].set_xlabel(\"Epochs\")\n",
        "ax[1].set_ylabel(\"Loss\")\n",
        "plt.show()"
      ]
    },
    {
      "cell_type": "markdown",
      "source": [
        "# Tahmin Yapılması"
      ],
      "metadata": {
        "id": "F88FA-U6tjRl"
      }
    },
    {
      "cell_type": "code",
      "source": [
        "from keras.utils import load_img, img_to_array\n",
        "from keras.applications.vgg19 import preprocess_input"
      ],
      "metadata": {
        "id": "9cUxXJI2ujzE"
      },
      "execution_count": null,
      "outputs": []
    },
    {
      "cell_type": "code",
      "source": [
        "train_generator.class_indices"
      ],
      "metadata": {
        "colab": {
          "base_uri": "https://localhost:8080/"
        },
        "id": "fssbCiqiyOEC",
        "outputId": "8afe7c85-9ae7-4886-d722-886a38780571"
      },
      "execution_count": null,
      "outputs": [
        {
          "output_type": "execute_result",
          "data": {
            "text/plain": [
              "{'daisy': 0, 'dandelion': 1, 'rose': 2, 'sunflower': 3, 'tulip': 4}"
            ]
          },
          "metadata": {},
          "execution_count": 50
        }
      ]
    },
    {
      "cell_type": "code",
      "source": [
        "#load the image\n",
        "my_image = load_img('/content/sunflower2.jpeg', target_size=(224, 224))"
      ],
      "metadata": {
        "id": "5EBOtg_BujM6"
      },
      "execution_count": null,
      "outputs": []
    },
    {
      "cell_type": "code",
      "source": [
        "my_image = img_to_array(my_image)"
      ],
      "metadata": {
        "id": "pabMT8BS1LSq"
      },
      "execution_count": null,
      "outputs": []
    },
    {
      "cell_type": "code",
      "source": [
        "my_image = my_image.reshape((1, my_image.shape[0], my_image.shape[1], my_image.shape[2]))"
      ],
      "metadata": {
        "id": "X8eQFLr11Lkp"
      },
      "execution_count": null,
      "outputs": []
    },
    {
      "cell_type": "code",
      "source": [
        "my_image = preprocess_input(my_image)"
      ],
      "metadata": {
        "id": "Zyd0GkUU1L0E"
      },
      "execution_count": null,
      "outputs": []
    },
    {
      "cell_type": "code",
      "source": [
        "prediction = model.predict(my_image)\n",
        "prediction"
      ],
      "metadata": {
        "colab": {
          "base_uri": "https://localhost:8080/"
        },
        "id": "gcrO4PMG0iiz",
        "outputId": "47769b17-6b88-47a3-e9eb-dad18e399773"
      },
      "execution_count": null,
      "outputs": [
        {
          "output_type": "stream",
          "name": "stdout",
          "text": [
            "1/1 [==============================] - 0s 17ms/step\n"
          ]
        },
        {
          "output_type": "execute_result",
          "data": {
            "text/plain": [
              "array([[1., 0., 0., 0., 0.]], dtype=float32)"
            ]
          },
          "metadata": {},
          "execution_count": 76
        }
      ]
    }
  ],
  "metadata": {
    "accelerator": "GPU",
    "colab": {
      "provenance": [],
      "authorship_tag": "ABX9TyMdbMppjDZY8YPNGOLNw/tL",
      "include_colab_link": true
    },
    "gpuClass": "standard",
    "kernelspec": {
      "display_name": "Python 3",
      "name": "python3"
    },
    "language_info": {
      "name": "python"
    }
  },
  "nbformat": 4,
  "nbformat_minor": 0
}